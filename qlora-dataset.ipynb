{
 "cells": [
  {
   "cell_type": "code",
   "execution_count": 1,
   "id": "847d1980-d313-4d21-911b-43d7b5659d47",
   "metadata": {},
   "outputs": [],
   "source": [
    "import csv\n",
    "with open(\"/datasets/imdb/train_data.txt\", \"r\") as csvfile:\n",
    "    csvreader = csv.DictReader(csvfile, delimiter=\"|\", fieldnames=[\"index\", \"title\", \"genre\", \"description\"])\n",
    "    data = list(csvreader)"
   ]
  },
  {
   "cell_type": "code",
   "execution_count": 2,
   "id": "7408680b-70dd-4755-a7d2-f468c6f57486",
   "metadata": {},
   "outputs": [],
   "source": [
    "def get_input_response(data):\n",
    "    template = f\"\"\"\n",
    "### Description:\n",
    "{data[\"description\"].strip()}\n",
    "\n",
    "### Genre:\n",
    "{data[\"genre\"].strip()}\n",
    "    \"\"\"\n",
    "    return template"
   ]
  },
  {
   "cell_type": "code",
   "execution_count": 3,
   "id": "620cabe0-f2b6-4734-bfa5-38fb4d5b3b84",
   "metadata": {},
   "outputs": [],
   "source": [
    "def get_instruction():\n",
    "    return \\\n",
    "    f\"\"\"Below is an instruction that describes the task, paired with a description that provides further context. Write a output that appropriately completes the request.\n",
    "    \n",
    "### Instruction:\n",
    "Read the given description of the movie. The description describes the story of the movie. Based on the story of the movie, return the genre of the movie.\n",
    "    \"\"\""
   ]
  },
  {
   "cell_type": "code",
   "execution_count": 5,
   "id": "04d9ff5f-a921-470c-985c-67b7e62b0b07",
   "metadata": {},
   "outputs": [],
   "source": [
    "def get_instructiion_formatted_dataset(data):\n",
    "    return get_instruction() + \"\\n\".join([get_input_response(data_) for data_ in data])\n",
    "    "
   ]
  },
  {
   "cell_type": "code",
   "execution_count": 6,
   "id": "e7ff2d82-dd43-4d08-aa8a-e480b79429f8",
   "metadata": {},
   "outputs": [],
   "source": [
    "with open(\"/datasets/instruction-test-dataset.txt\", \"w\") as datasetfile:\n",
    "    datasetfile.write(get_instructiion_formatted_dataset(data))"
   ]
  },
  {
   "cell_type": "code",
   "execution_count": null,
   "id": "193f4146-51ab-4db8-9797-dbca58cfcd4e",
   "metadata": {},
   "outputs": [],
   "source": []
  }
 ],
 "metadata": {
  "kernelspec": {
   "display_name": "Python 3 (ipykernel)",
   "language": "python",
   "name": "python3"
  },
  "language_info": {
   "codemirror_mode": {
    "name": "ipython",
    "version": 3
   },
   "file_extension": ".py",
   "mimetype": "text/x-python",
   "name": "python",
   "nbconvert_exporter": "python",
   "pygments_lexer": "ipython3",
   "version": "3.12.8"
  }
 },
 "nbformat": 4,
 "nbformat_minor": 5
}
