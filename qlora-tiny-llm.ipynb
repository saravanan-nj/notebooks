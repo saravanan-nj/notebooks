{
  "cells": [
    {
      "cell_type": "markdown",
      "metadata": {
        "id": "view-in-github",
        "colab_type": "text"
      },
      "source": [
        "<a href=\"https://colab.research.google.com/github/saravanan-nj/notebooks/blob/main/qlora-tiny-llm.ipynb\" target=\"_parent\"><img src=\"https://colab.research.google.com/assets/colab-badge.svg\" alt=\"Open In Colab\"/></a>"
      ]
    },
    {
      "cell_type": "markdown",
      "source": [
        "### Install Requirements"
      ],
      "metadata": {
        "id": "NPKEYvEUmRaX"
      },
      "id": "NPKEYvEUmRaX"
    },
    {
      "cell_type": "code",
      "source": [
        "!pip install -q accelerate==1.3.0 peft==0.14.0 bitsandbytes==0.45.2 transformers==4.48.3 trl==0.14.0 datasets==3.1.0 pretty_midi # fsspec==2024.10.0"
      ],
      "metadata": {
        "id": "q8ec-vuWmWIc"
      },
      "id": "q8ec-vuWmWIc",
      "execution_count": 3,
      "outputs": []
    },
    {
      "cell_type": "code",
      "source": [
        "import os\n",
        "import torch\n",
        "from datasets import load_dataset\n",
        "from transformers import (\n",
        "    AutoModelForCausalLM,\n",
        "    AutoModel,\n",
        "    AutoTokenizer,\n",
        "    BitsAndBytesConfig,\n",
        "    HfArgumentParser,\n",
        "    TrainingArguments,\n",
        "    pipeline,\n",
        "    logging,\n",
        ")\n",
        "from peft import LoraConfig, PeftModel\n",
        "from trl import SFTTrainer, SFTConfig, DataCollatorForCompletionOnlyLM"
      ],
      "metadata": {
        "id": "vMGDYyvZmbMh"
      },
      "id": "vMGDYyvZmbMh",
      "execution_count": 4,
      "outputs": []
    },
    {
      "cell_type": "code",
      "source": [
        "# Load the training dataset\n",
        "from google.colab import drive\n",
        "import pandas as pd\n",
        "\"\"\n",
        "df = pd.read_csv('/content/imdb/train_data.txt', delimiter=\":::\", names=[\"index\", \"title\", \"genre\", \"description\"])"
      ],
      "metadata": {
        "colab": {
          "base_uri": "https://localhost:8080/"
        },
        "id": "lXPlfMG8qxz_",
        "outputId": "65b95c7d-1f5b-44e9-9dbf-d2bd16be6794"
      },
      "id": "lXPlfMG8qxz_",
      "execution_count": 22,
      "outputs": [
        {
          "output_type": "stream",
          "name": "stderr",
          "text": [
            "<ipython-input-22-7d34c7d864dd>:5: ParserWarning: Falling back to the 'python' engine because the 'c' engine does not support regex separators (separators > 1 char and different from '\\s+' are interpreted as regex); you can avoid this warning by specifying engine='python'.\n",
            "  df = pd.read_csv('/content/imdb/train_data.txt', delimiter=\":::\", names=[\"index\", \"title\", \"genre\", \"description\"])\n"
          ]
        }
      ]
    },
    {
      "cell_type": "code",
      "source": [
        "dataset_df = pd.DataFrame()\n",
        "def get_text(row):\n",
        "  return f\"\"\"\n",
        "### Instruction:\n",
        "Given a movie description, read the description, understand and analyse the story of the movie based on the given description and return the genre of the movie.\n",
        "\n",
        "### Description:\n",
        "{row[\"description\"]}\n",
        "\n",
        "### Genre:\n",
        "{row[\"genre\"].strip()}\n",
        "<|endresponse>\n",
        "\"\"\"\n",
        "print(df.head())\n",
        "dataset_df[\"description\"] = df[\"description\"]\n",
        "dataset_df[\"genre\"] = df[\"genre\"]\n",
        "dataset_df[\"instruction\"] = \"Given a movie description, read the description, understand and analyse the story of the movie based on the given description and return the genre of the movie.\"\n",
        "# dataset_df[\"text\"] = dataset_df.apply(get_text, axis=1)"
      ],
      "metadata": {
        "id": "F4f0SzIN4oDt",
        "outputId": "665878ad-c390-4d66-884f-70080dff9e48",
        "colab": {
          "base_uri": "https://localhost:8080/"
        }
      },
      "id": "F4f0SzIN4oDt",
      "execution_count": 23,
      "outputs": [
        {
          "output_type": "stream",
          "name": "stdout",
          "text": [
            "   index                               title       genre  \\\n",
            "0      1       Oscar et la dame rose (2009)       drama    \n",
            "1      2                       Cupid (1997)    thriller    \n",
            "2      3   Young, Wild and Wonderful (1980)       adult    \n",
            "3      4              The Secret Sin (1915)       drama    \n",
            "4      5             The Unrecovered (2007)       drama    \n",
            "\n",
            "                                         description  \n",
            "0   Listening in to a conversation between his do...  \n",
            "1   A brother and sister with a past incestuous r...  \n",
            "2   As the bus empties the students for their fie...  \n",
            "3   To help their unemployed father make ends mee...  \n",
            "4   The film's title refers not only to the un-re...  \n"
          ]
        }
      ]
    },
    {
      "cell_type": "code",
      "source": [
        "from datasets import Dataset\n",
        "print(dataset_df.head())\n",
        "dataset = Dataset.from_pandas(dataset_df)"
      ],
      "metadata": {
        "id": "yg9Ob5A89QAf",
        "outputId": "cf8569ed-34ae-448c-f1f4-1fcb00123f5d",
        "colab": {
          "base_uri": "https://localhost:8080/"
        }
      },
      "id": "yg9Ob5A89QAf",
      "execution_count": 24,
      "outputs": [
        {
          "output_type": "stream",
          "name": "stdout",
          "text": [
            "                                         description       genre  \\\n",
            "0   Listening in to a conversation between his do...      drama    \n",
            "1   A brother and sister with a past incestuous r...   thriller    \n",
            "2   As the bus empties the students for their fie...      adult    \n",
            "3   To help their unemployed father make ends mee...      drama    \n",
            "4   The film's title refers not only to the un-re...      drama    \n",
            "\n",
            "                                         instruction  \n",
            "0  Given a movie description, read the descriptio...  \n",
            "1  Given a movie description, read the descriptio...  \n",
            "2  Given a movie description, read the descriptio...  \n",
            "3  Given a movie description, read the descriptio...  \n",
            "4  Given a movie description, read the descriptio...  \n"
          ]
        }
      ]
    },
    {
      "cell_type": "code",
      "source": [
        "bnb_config = BitsAndBytesConfig(\n",
        "    load_in_4bit=True,\n",
        "    bnb_4bit_quant_type=\"nf4\",\n",
        "    bnb_4bit_compute_dtype=torch.float16,\n",
        "    bnb_4bit_use_double_quant=True,\n",
        ")"
      ],
      "metadata": {
        "id": "uPTs6vja_Xzw"
      },
      "id": "uPTs6vja_Xzw",
      "execution_count": 25,
      "outputs": []
    },
    {
      "cell_type": "code",
      "source": [
        "model_name = \"crumb/nano-mistral\"\n",
        "tokenizer = AutoTokenizer.from_pretrained(model_name, trust_remote_code=True)\n",
        "tokenizer.pad_token = tokenizer.eos_token\n",
        "tokenizer.padding_side = \"right\""
      ],
      "metadata": {
        "id": "jGEJ_PhAAPif"
      },
      "id": "jGEJ_PhAAPif",
      "execution_count": 26,
      "outputs": []
    },
    {
      "cell_type": "code",
      "source": [
        "device_map = \"auto\"\n",
        "model = AutoModelForCausalLM.from_pretrained(\n",
        "    model_name,\n",
        "    quantization_config=bnb_config,\n",
        "    device_map=device_map\n",
        ")\n",
        "model.config.use_cache = False\n",
        "model.config.pretraining_tp = 1"
      ],
      "metadata": {
        "id": "ZloyZtyFNqhx"
      },
      "id": "ZloyZtyFNqhx",
      "execution_count": 27,
      "outputs": []
    },
    {
      "cell_type": "code",
      "source": [
        "peft_config = LoraConfig(\n",
        "    lora_alpha=16,\n",
        "    lora_dropout=0.1,\n",
        "    r=32,\n",
        "    bias=\"none\",\n",
        "    task_type=\"CAUSAL_LM\",\n",
        ")\n",
        "\n",
        "training_arguments = SFTConfig(\n",
        "    output_dir=\"./results\",\n",
        "    num_train_epochs=1,\n",
        "    per_device_train_batch_size=4,\n",
        "    gradient_accumulation_steps=1,\n",
        "    optim=\"paged_adamw_32bit\",\n",
        "    save_steps=0,\n",
        "    logging_steps=100,\n",
        "    learning_rate=1e-5,\n",
        "    weight_decay=0.01,\n",
        "    fp16=False,\n",
        "    bf16=False,\n",
        "    max_grad_norm=0.3,\n",
        "    max_steps=5000,\n",
        "    warmup_ratio=0.03,\n",
        "    group_by_length=True,\n",
        "    lr_scheduler_type=\"cosine\",\n",
        "    report_to=\"tensorboard\",\n",
        "    max_seq_length=256,\n",
        "    packing=False\n",
        ")"
      ],
      "metadata": {
        "id": "DTMfRhucOMR8"
      },
      "id": "DTMfRhucOMR8",
      "execution_count": 28,
      "outputs": []
    },
    {
      "cell_type": "code",
      "source": [
        "def print_tokens_with_ids(txt):\n",
        "    tokens = tokenizer.tokenize(txt, add_special_tokens=False)\n",
        "    token_ids = tokenizer.encode(txt, add_special_tokens=False)\n",
        "    print(list(zip(tokens, token_ids)))\n",
        "\n",
        "\n",
        "def formatted_prompts_func(example):\n",
        "  output_texts = []\n",
        "  for i in range(len(example[\"description\"])):\n",
        "    output_texts.append(f\"\"\"\n",
        "### Instruction:\n",
        "Given a movie description, read the description, understand and analyse the story of the movie based on the given description and return the genre of the movie.\n",
        "\n",
        "### Description:\n",
        "{example[\"description\"][i]}\n",
        "\n",
        "### Genre:\n",
        "{(example[\"genre\"][i] or '' ).strip()}\n",
        "<|endresponse>\n",
        "\"\"\")\n",
        "  # print_tokens_with_ids(output_texts[0])\n",
        "  return output_texts\n",
        "\n",
        "response_template =\"\\n### Description:\"\n",
        "collator = DataCollatorForCompletionOnlyLM(tokenizer.encode(response_template, add_special_tokens=False)[:2], tokenizer=tokenizer)\n",
        "\n",
        "\n",
        "trainer = SFTTrainer(\n",
        "    model=model,\n",
        "    train_dataset=dataset,\n",
        "    peft_config=peft_config,\n",
        "    args=training_arguments,\n",
        "    processing_class=tokenizer,\n",
        "    formatting_func=formatted_prompts_func,\n",
        "    data_collator=collator\n",
        ")\n",
        "trainer.train()\n",
        "trainer.model.save_pretrained(\"imdb-classifier\")"
      ],
      "metadata": {
        "id": "OGZT2ZSgSvjG",
        "outputId": "6350c403-3118-451f-8360-8e89b5852542",
        "colab": {
          "base_uri": "https://localhost:8080/",
          "height": 1000,
          "referenced_widgets": [
            "46962f202896406b91af2650bca2123e",
            "6ac67c10d0044a649e16e3e6ae2088f7",
            "a2e7854ae6514d69aa172b851c7b65a8",
            "a51c4071b05d4ddab384d2836596ac2e",
            "6d49781399924ee38473eba5baddd2f9",
            "8500a0be86ff4ebab02c6757a139b495",
            "4b3c0c9afa2a41d0973853c3f0164e18",
            "19eb3086aef84ebb8cb60086a06ffe11",
            "4f31c5c7affb4eab9148752c56956085",
            "c9a08780a829472390ef8f9595743294",
            "ff5871d50dd645a7ac4fd3cabb380f6b"
          ]
        },
        "collapsed": true
      },
      "id": "OGZT2ZSgSvjG",
      "execution_count": 29,
      "outputs": [
        {
          "output_type": "display_data",
          "data": {
            "text/plain": [
              "Map:   0%|          | 0/54214 [00:00<?, ? examples/s]"
            ],
            "application/vnd.jupyter.widget-view+json": {
              "version_major": 2,
              "version_minor": 0,
              "model_id": "46962f202896406b91af2650bca2123e"
            }
          },
          "metadata": {}
        },
        {
          "output_type": "display_data",
          "data": {
            "text/plain": [
              "<IPython.core.display.HTML object>"
            ],
            "text/html": [
              "\n",
              "    <div>\n",
              "      \n",
              "      <progress value='5000' max='5000' style='width:300px; height:20px; vertical-align: middle;'></progress>\n",
              "      [5000/5000 14:33, Epoch 0/1]\n",
              "    </div>\n",
              "    <table border=\"1\" class=\"dataframe\">\n",
              "  <thead>\n",
              " <tr style=\"text-align: left;\">\n",
              "      <th>Step</th>\n",
              "      <th>Training Loss</th>\n",
              "    </tr>\n",
              "  </thead>\n",
              "  <tbody>\n",
              "    <tr>\n",
              "      <td>100</td>\n",
              "      <td>3.690800</td>\n",
              "    </tr>\n",
              "    <tr>\n",
              "      <td>200</td>\n",
              "      <td>3.668600</td>\n",
              "    </tr>\n",
              "    <tr>\n",
              "      <td>300</td>\n",
              "      <td>3.526800</td>\n",
              "    </tr>\n",
              "    <tr>\n",
              "      <td>400</td>\n",
              "      <td>3.396900</td>\n",
              "    </tr>\n",
              "    <tr>\n",
              "      <td>500</td>\n",
              "      <td>3.267100</td>\n",
              "    </tr>\n",
              "    <tr>\n",
              "      <td>600</td>\n",
              "      <td>3.171700</td>\n",
              "    </tr>\n",
              "    <tr>\n",
              "      <td>700</td>\n",
              "      <td>3.089400</td>\n",
              "    </tr>\n",
              "    <tr>\n",
              "      <td>800</td>\n",
              "      <td>2.998800</td>\n",
              "    </tr>\n",
              "    <tr>\n",
              "      <td>900</td>\n",
              "      <td>2.900600</td>\n",
              "    </tr>\n",
              "    <tr>\n",
              "      <td>1000</td>\n",
              "      <td>2.804200</td>\n",
              "    </tr>\n",
              "    <tr>\n",
              "      <td>1100</td>\n",
              "      <td>2.763200</td>\n",
              "    </tr>\n",
              "    <tr>\n",
              "      <td>1200</td>\n",
              "      <td>2.736300</td>\n",
              "    </tr>\n",
              "    <tr>\n",
              "      <td>1300</td>\n",
              "      <td>2.669000</td>\n",
              "    </tr>\n",
              "    <tr>\n",
              "      <td>1400</td>\n",
              "      <td>2.609300</td>\n",
              "    </tr>\n",
              "    <tr>\n",
              "      <td>1500</td>\n",
              "      <td>2.610500</td>\n",
              "    </tr>\n",
              "    <tr>\n",
              "      <td>1600</td>\n",
              "      <td>2.570000</td>\n",
              "    </tr>\n",
              "    <tr>\n",
              "      <td>1700</td>\n",
              "      <td>2.563000</td>\n",
              "    </tr>\n",
              "    <tr>\n",
              "      <td>1800</td>\n",
              "      <td>2.524600</td>\n",
              "    </tr>\n",
              "    <tr>\n",
              "      <td>1900</td>\n",
              "      <td>2.571900</td>\n",
              "    </tr>\n",
              "    <tr>\n",
              "      <td>2000</td>\n",
              "      <td>2.497000</td>\n",
              "    </tr>\n",
              "    <tr>\n",
              "      <td>2100</td>\n",
              "      <td>2.480600</td>\n",
              "    </tr>\n",
              "    <tr>\n",
              "      <td>2200</td>\n",
              "      <td>2.484500</td>\n",
              "    </tr>\n",
              "    <tr>\n",
              "      <td>2300</td>\n",
              "      <td>2.527800</td>\n",
              "    </tr>\n",
              "    <tr>\n",
              "      <td>2400</td>\n",
              "      <td>2.487900</td>\n",
              "    </tr>\n",
              "    <tr>\n",
              "      <td>2500</td>\n",
              "      <td>2.478700</td>\n",
              "    </tr>\n",
              "    <tr>\n",
              "      <td>2600</td>\n",
              "      <td>2.446800</td>\n",
              "    </tr>\n",
              "    <tr>\n",
              "      <td>2700</td>\n",
              "      <td>2.477600</td>\n",
              "    </tr>\n",
              "    <tr>\n",
              "      <td>2800</td>\n",
              "      <td>2.482300</td>\n",
              "    </tr>\n",
              "    <tr>\n",
              "      <td>2900</td>\n",
              "      <td>2.504100</td>\n",
              "    </tr>\n",
              "    <tr>\n",
              "      <td>3000</td>\n",
              "      <td>2.464600</td>\n",
              "    </tr>\n",
              "    <tr>\n",
              "      <td>3100</td>\n",
              "      <td>2.505600</td>\n",
              "    </tr>\n",
              "    <tr>\n",
              "      <td>3200</td>\n",
              "      <td>2.448400</td>\n",
              "    </tr>\n",
              "    <tr>\n",
              "      <td>3300</td>\n",
              "      <td>2.475600</td>\n",
              "    </tr>\n",
              "    <tr>\n",
              "      <td>3400</td>\n",
              "      <td>2.480200</td>\n",
              "    </tr>\n",
              "    <tr>\n",
              "      <td>3500</td>\n",
              "      <td>2.455300</td>\n",
              "    </tr>\n",
              "    <tr>\n",
              "      <td>3600</td>\n",
              "      <td>2.442800</td>\n",
              "    </tr>\n",
              "    <tr>\n",
              "      <td>3700</td>\n",
              "      <td>2.427400</td>\n",
              "    </tr>\n",
              "    <tr>\n",
              "      <td>3800</td>\n",
              "      <td>2.462800</td>\n",
              "    </tr>\n",
              "    <tr>\n",
              "      <td>3900</td>\n",
              "      <td>2.453300</td>\n",
              "    </tr>\n",
              "    <tr>\n",
              "      <td>4000</td>\n",
              "      <td>2.440500</td>\n",
              "    </tr>\n",
              "    <tr>\n",
              "      <td>4100</td>\n",
              "      <td>2.428900</td>\n",
              "    </tr>\n",
              "    <tr>\n",
              "      <td>4200</td>\n",
              "      <td>2.473500</td>\n",
              "    </tr>\n",
              "    <tr>\n",
              "      <td>4300</td>\n",
              "      <td>2.423900</td>\n",
              "    </tr>\n",
              "    <tr>\n",
              "      <td>4400</td>\n",
              "      <td>2.453600</td>\n",
              "    </tr>\n",
              "    <tr>\n",
              "      <td>4500</td>\n",
              "      <td>2.408500</td>\n",
              "    </tr>\n",
              "    <tr>\n",
              "      <td>4600</td>\n",
              "      <td>2.455200</td>\n",
              "    </tr>\n",
              "    <tr>\n",
              "      <td>4700</td>\n",
              "      <td>2.452900</td>\n",
              "    </tr>\n",
              "    <tr>\n",
              "      <td>4800</td>\n",
              "      <td>2.461000</td>\n",
              "    </tr>\n",
              "    <tr>\n",
              "      <td>4900</td>\n",
              "      <td>2.435300</td>\n",
              "    </tr>\n",
              "    <tr>\n",
              "      <td>5000</td>\n",
              "      <td>2.449400</td>\n",
              "    </tr>\n",
              "  </tbody>\n",
              "</table><p>"
            ]
          },
          "metadata": {}
        }
      ]
    },
    {
      "cell_type": "code",
      "source": [
        "!zip -r imdb-classifier.zip results imdb-classifier"
      ],
      "metadata": {
        "id": "oQeNERHdTVR_",
        "colab": {
          "base_uri": "https://localhost:8080/"
        },
        "outputId": "60054db0-1eb5-4235-9899-152bce86bd1b"
      },
      "id": "oQeNERHdTVR_",
      "execution_count": 33,
      "outputs": [
        {
          "output_type": "stream",
          "name": "stdout",
          "text": [
            "  adding: results/ (stored 0%)\n",
            "  adding: results/checkpoint-5000/ (stored 0%)\n",
            "  adding: results/checkpoint-5000/README.md (deflated 66%)\n",
            "  adding: results/checkpoint-5000/tokenizer.model (deflated 55%)\n",
            "  adding: results/checkpoint-5000/special_tokens_map.json (deflated 73%)\n",
            "  adding: results/checkpoint-5000/training_args.bin (deflated 51%)\n",
            "  adding: results/checkpoint-5000/trainer_state.json (deflated 74%)\n",
            "  adding: results/checkpoint-5000/tokenizer_config.json (deflated 69%)\n",
            "  adding: results/checkpoint-5000/adapter_config.json (deflated 54%)\n",
            "  adding: results/checkpoint-5000/scheduler.pt (deflated 56%)\n",
            "  adding: results/checkpoint-5000/rng_state.pth (deflated 25%)\n",
            "  adding: results/checkpoint-5000/adapter_model.safetensors (deflated 7%)\n",
            "  adding: results/checkpoint-5000/optimizer.pt (deflated 9%)\n",
            "  adding: results/checkpoint-5000/tokenizer.json (deflated 85%)\n",
            "  adding: results/runs/ (stored 0%)\n",
            "  adding: results/runs/Feb14_02-16-11_7c159354e9f6/ (stored 0%)\n",
            "  adding: results/runs/Feb14_02-16-11_7c159354e9f6/events.out.tfevents.1739499391.7c159354e9f6.1952.1 (deflated 65%)\n",
            "  adding: results/runs/Feb14_02-13-46_7c159354e9f6/ (stored 0%)\n",
            "  adding: results/runs/Feb14_02-13-46_7c159354e9f6/events.out.tfevents.1739499322.7c159354e9f6.1952.0 (deflated 61%)\n",
            "  adding: results/runs/Feb14_02-29-16_7c159354e9f6/ (stored 0%)\n",
            "  adding: results/runs/Feb14_02-29-16_7c159354e9f6/events.out.tfevents.1739500194.7c159354e9f6.1952.2 (deflated 65%)\n",
            "  adding: imdb-classifier/ (stored 0%)\n",
            "  adding: imdb-classifier/README.md (deflated 66%)\n",
            "  adding: imdb-classifier/adapter_config.json (deflated 54%)\n",
            "  adding: imdb-classifier/adapter_model.safetensors (deflated 7%)\n"
          ]
        }
      ]
    },
    {
      "cell_type": "code",
      "source": [
        "tokenizer = AutoTokenizer.from_pretrained(model_name, trust_remote_code=True)\n",
        "tokenizer.pad_token = tokenizer.eos_token\n",
        "tokenizer.padding_side = \"right\"\n",
        "\n",
        "base_model = AutoModelForCausalLM.from_pretrained(\n",
        "    model_name,\n",
        "    low_cpu_mem_usage=True,\n",
        "    return_dict=True,\n",
        "    torch_dtype=torch.float16,\n",
        "    device_map=\"auto\",\n",
        ")\n",
        "model = PeftModel.from_pretrained(base_model, '/content/imdb-classifier')\n",
        "model = model.merge_and_unload()\n",
        "pipe = pipeline(task=\"text-generation\", model=model, tokenizer=tokenizer, max_length=200, truncation=True)\n",
        "base_model = AutoModelForCausalLM.from_pretrained(\n",
        "    model_name,\n",
        "    low_cpu_mem_usage=True,\n",
        "    return_dict=True,\n",
        "    torch_dtype=torch.float16,\n",
        "    device_map=\"auto\",\n",
        ")\n",
        "original_pipeline = pipeline(task=\"text-generation\", model=base_model, tokenizer=tokenizer, max_length=200, truncation=True)\n",
        "\n",
        "prompt_template = \"\"\"\n",
        "### Instruction:\n",
        "Given a movie description, read the description, understand and analyse the story of the movie based on the given description and return the genre of the movie.\n",
        "\n",
        "### Description:\n",
        "{}\n",
        "\n",
        "### Genre:\n",
        "\"\"\""
      ],
      "metadata": {
        "colab": {
          "base_uri": "https://localhost:8080/"
        },
        "id": "lGxlMPx7HxmS",
        "outputId": "973f41e8-00c6-4f21-bb60-dadec2accb85"
      },
      "id": "lGxlMPx7HxmS",
      "execution_count": 30,
      "outputs": [
        {
          "output_type": "stream",
          "name": "stderr",
          "text": [
            "Device set to use cuda:0\n",
            "Device set to use cuda:0\n"
          ]
        }
      ]
    },
    {
      "cell_type": "code",
      "source": [
        "movie_description = \"Müzeyyen is a young woman who lives a drug-fuelled, chaotic life outside the norms of society. Her brother Ali interrupts his own successful, bourgeois life in Bolu, and goes to Antalya to meet with his recently- discovered sister. There, the legitimate child - Ali - will be tested through unguessed - at sins, while the illegitimate one - Müzeyyen - will be tempted in turn by Ali's hope.\"\n",
        "print(len(movie_description))\n",
        "movie_input = prompt_template.format(movie_description)\n",
        "result = pipe(movie_input)\n",
        "original_result = original_pipeline(movie_input)\n",
        "print(result[0][\"generated_text\"])\n",
        "print(\"*\" * 60)\n",
        "print(original_result[0][\"generated_text\"])"
      ],
      "metadata": {
        "colab": {
          "base_uri": "https://localhost:8080/"
        },
        "id": "9V_Z_D_p7jTW",
        "outputId": "a337d224-8d65-42a5-ae84-5d5dd049bd65"
      },
      "id": "9V_Z_D_p7jTW",
      "execution_count": 31,
      "outputs": [
        {
          "output_type": "stream",
          "name": "stdout",
          "text": [
            "390\n",
            "\n",
            "### Instruction:\n",
            "Given a movie description, read the description, understand and analyse the story of the movie based on the given description and return the genre of the movie.\n",
            "\n",
            "### Description:\n",
            "Müzeyyen is a young woman who lives a drug-fuelled, chaotic life outside the norms of society. Her brother Ali interrupts his own successful, bourgeois life in Bolu, and goes to Antalya to meet with his recently- discovered sister. There, the legitimate child - Ali - will be tested through unguessed - at sins, while the illegitimate one - Müzeyyen - will be tempted in turn by Ali's hope.\n",
            "\n",
            "### Genre:\n",
            "drama\n",
            "<|endresponse>\n",
            "<|endresponse>\n",
            "<|endresponse>\n",
            "<|endresponse>\n",
            "<|endresponse>\n",
            "<|endresponse>\n",
            "<|end\n",
            "************************************************************\n",
            "\n",
            "### Instruction:\n",
            "Given a movie description, read the description, understand and analyse the story of the movie based on the given description and return the genre of the movie.\n",
            "\n",
            "### Description:\n",
            "Müzeyyen is a young woman who lives a drug-fuelled, chaotic life outside the norms of society. Her brother Ali interrupts his own successful, bourgeois life in Bolu, and goes to Antalya to meet with his recently- discovered sister. There, the legitimate child - Ali - will be tested through unguessed - at sins, while the illegitimate one - Müzeyyen - will be tempted in turn by Ali's hope.\n",
            "\n",
            "### Genre:\n",
            "\n",
            "German\n",
            "\n",
            "Genre:\n",
            "\n",
            "German\n",
            "\n",
            "Genre:\n",
            "\n",
            "German\n",
            "\n",
            "Genre:\n",
            "\n",
            "German\n",
            "\n",
            "Genre:\n",
            "\n",
            "German\n",
            "\n",
            "Gen\n"
          ]
        }
      ]
    },
    {
      "cell_type": "code",
      "source": [
        "movie_description = \"Shy bookworm Tommy vacations in Palm Springs, never expecting an amorous adventure. But once he spots Brendan, he can't stop fantasizing about being with the sensuous, dark-haired man. However, Brendan's friends have their own ideas, and continue to pull him into their orgy of alcohol and sex. Finally alone at the pool, Brendan approaches Tommy and they spend an afternoon exploring the desert town and each other. Just as Tommy saves Brendan from a poolside accident, Brendan's friends come back - and try to force the two apart. True love conquers all, as Tommy's vacation climaxes in a passionate declaration of love and desire. LOVE INN EXILE boasts several unforgettable erotic scenes - including the strangely tender, drunken ménage a trois between Brendan's friends, a spicy tequila shot off Brendan's shoulder, and, of course, Tommy's ultimate fulfillment by his ideal man. LOVE INN EXILE is filmed entirely on location at Inn Exile in Palm Springs. With music by adult film star Sharon Kane, this video makes exile seem like a perfectly good punishment!\"\n",
        "movie_input = prompt_template.format(movie_description[:450])\n",
        "result = pipe(movie_input)\n",
        "original_result = original_pipeline(movie_input)\n",
        "print(result[0][\"generated_text\"])\n",
        "print(\"*\" * 60)\n",
        "print(original_result[0][\"generated_text\"])"
      ],
      "metadata": {
        "colab": {
          "base_uri": "https://localhost:8080/"
        },
        "id": "x5aquaEg-dQt",
        "outputId": "d7a98862-9928-4c2e-8cc7-2a1bb33f0648"
      },
      "id": "x5aquaEg-dQt",
      "execution_count": 32,
      "outputs": [
        {
          "output_type": "stream",
          "name": "stdout",
          "text": [
            "\n",
            "### Instruction:\n",
            "Given a movie description, read the description, understand and analyse the story of the movie based on the given description and return the genre of the movie.\n",
            "\n",
            "### Description:\n",
            "Shy bookworm Tommy vacations in Palm Springs, never expecting an amorous adventure. But once he spots Brendan, he can't stop fantasizing about being with the sensuous, dark-haired man. However, Brendan's friends have their own ideas, and continue to pull him into their orgy of alcohol and sex. Finally alone at the pool, Brendan approaches Tommy and they spend an afternoon exploring the desert town and each other. Just as Tommy saves Brendan from \n",
            "\n",
            "### Genre:\n",
            "drama\n",
            "<|endresponse>\n",
            "  * \n",
            "  * \n",
            "  * \n",
            "  * \n",
            "  * \n",
            "  * \n",
            "  * \n",
            "  * \n",
            "  *\n",
            "************************************************************\n",
            "\n",
            "### Instruction:\n",
            "Given a movie description, read the description, understand and analyse the story of the movie based on the given description and return the genre of the movie.\n",
            "\n",
            "### Description:\n",
            "Shy bookworm Tommy vacations in Palm Springs, never expecting an amorous adventure. But once he spots Brendan, he can't stop fantasizing about being with the sensuous, dark-haired man. However, Brendan's friends have their own ideas, and continue to pull him into their orgy of alcohol and sex. Finally alone at the pool, Brendan approaches Tommy and they spend an afternoon exploring the desert town and each other. Just as Tommy saves Brendan from \n",
            "\n",
            "### Genre:\n",
            "\n",
            "Gregory Goulding\n",
            "\n",
            "Gregory Goulding is a writer and writer who has written for the New York Times, the New York Times, the New York Times, the New York Times\n"
          ]
        }
      ]
    },
    {
      "cell_type": "code",
      "source": [],
      "metadata": {
        "id": "BicTlel5_XoS"
      },
      "id": "BicTlel5_XoS",
      "execution_count": null,
      "outputs": []
    }
  ],
  "metadata": {
    "kernelspec": {
      "display_name": "Python 3",
      "name": "python3"
    },
    "language_info": {
      "codemirror_mode": {
        "name": "ipython",
        "version": 3
      },
      "file_extension": ".py",
      "mimetype": "text/x-python",
      "name": "python",
      "nbconvert_exporter": "python",
      "pygments_lexer": "ipython3",
      "version": "3.12.8"
    },
    "colab": {
      "provenance": [],
      "gpuType": "T4",
      "include_colab_link": true
    },
    "accelerator": "GPU",
    "widgets": {
      "application/vnd.jupyter.widget-state+json": {
        "46962f202896406b91af2650bca2123e": {
          "model_module": "@jupyter-widgets/controls",
          "model_name": "HBoxModel",
          "model_module_version": "1.5.0",
          "state": {
            "_dom_classes": [],
            "_model_module": "@jupyter-widgets/controls",
            "_model_module_version": "1.5.0",
            "_model_name": "HBoxModel",
            "_view_count": null,
            "_view_module": "@jupyter-widgets/controls",
            "_view_module_version": "1.5.0",
            "_view_name": "HBoxView",
            "box_style": "",
            "children": [
              "IPY_MODEL_6ac67c10d0044a649e16e3e6ae2088f7",
              "IPY_MODEL_a2e7854ae6514d69aa172b851c7b65a8",
              "IPY_MODEL_a51c4071b05d4ddab384d2836596ac2e"
            ],
            "layout": "IPY_MODEL_6d49781399924ee38473eba5baddd2f9"
          }
        },
        "6ac67c10d0044a649e16e3e6ae2088f7": {
          "model_module": "@jupyter-widgets/controls",
          "model_name": "HTMLModel",
          "model_module_version": "1.5.0",
          "state": {
            "_dom_classes": [],
            "_model_module": "@jupyter-widgets/controls",
            "_model_module_version": "1.5.0",
            "_model_name": "HTMLModel",
            "_view_count": null,
            "_view_module": "@jupyter-widgets/controls",
            "_view_module_version": "1.5.0",
            "_view_name": "HTMLView",
            "description": "",
            "description_tooltip": null,
            "layout": "IPY_MODEL_8500a0be86ff4ebab02c6757a139b495",
            "placeholder": "​",
            "style": "IPY_MODEL_4b3c0c9afa2a41d0973853c3f0164e18",
            "value": "Map: 100%"
          }
        },
        "a2e7854ae6514d69aa172b851c7b65a8": {
          "model_module": "@jupyter-widgets/controls",
          "model_name": "FloatProgressModel",
          "model_module_version": "1.5.0",
          "state": {
            "_dom_classes": [],
            "_model_module": "@jupyter-widgets/controls",
            "_model_module_version": "1.5.0",
            "_model_name": "FloatProgressModel",
            "_view_count": null,
            "_view_module": "@jupyter-widgets/controls",
            "_view_module_version": "1.5.0",
            "_view_name": "ProgressView",
            "bar_style": "success",
            "description": "",
            "description_tooltip": null,
            "layout": "IPY_MODEL_19eb3086aef84ebb8cb60086a06ffe11",
            "max": 54214,
            "min": 0,
            "orientation": "horizontal",
            "style": "IPY_MODEL_4f31c5c7affb4eab9148752c56956085",
            "value": 54214
          }
        },
        "a51c4071b05d4ddab384d2836596ac2e": {
          "model_module": "@jupyter-widgets/controls",
          "model_name": "HTMLModel",
          "model_module_version": "1.5.0",
          "state": {
            "_dom_classes": [],
            "_model_module": "@jupyter-widgets/controls",
            "_model_module_version": "1.5.0",
            "_model_name": "HTMLModel",
            "_view_count": null,
            "_view_module": "@jupyter-widgets/controls",
            "_view_module_version": "1.5.0",
            "_view_name": "HTMLView",
            "description": "",
            "description_tooltip": null,
            "layout": "IPY_MODEL_c9a08780a829472390ef8f9595743294",
            "placeholder": "​",
            "style": "IPY_MODEL_ff5871d50dd645a7ac4fd3cabb380f6b",
            "value": " 54214/54214 [00:24&lt;00:00, 2450.71 examples/s]"
          }
        },
        "6d49781399924ee38473eba5baddd2f9": {
          "model_module": "@jupyter-widgets/base",
          "model_name": "LayoutModel",
          "model_module_version": "1.2.0",
          "state": {
            "_model_module": "@jupyter-widgets/base",
            "_model_module_version": "1.2.0",
            "_model_name": "LayoutModel",
            "_view_count": null,
            "_view_module": "@jupyter-widgets/base",
            "_view_module_version": "1.2.0",
            "_view_name": "LayoutView",
            "align_content": null,
            "align_items": null,
            "align_self": null,
            "border": null,
            "bottom": null,
            "display": null,
            "flex": null,
            "flex_flow": null,
            "grid_area": null,
            "grid_auto_columns": null,
            "grid_auto_flow": null,
            "grid_auto_rows": null,
            "grid_column": null,
            "grid_gap": null,
            "grid_row": null,
            "grid_template_areas": null,
            "grid_template_columns": null,
            "grid_template_rows": null,
            "height": null,
            "justify_content": null,
            "justify_items": null,
            "left": null,
            "margin": null,
            "max_height": null,
            "max_width": null,
            "min_height": null,
            "min_width": null,
            "object_fit": null,
            "object_position": null,
            "order": null,
            "overflow": null,
            "overflow_x": null,
            "overflow_y": null,
            "padding": null,
            "right": null,
            "top": null,
            "visibility": null,
            "width": null
          }
        },
        "8500a0be86ff4ebab02c6757a139b495": {
          "model_module": "@jupyter-widgets/base",
          "model_name": "LayoutModel",
          "model_module_version": "1.2.0",
          "state": {
            "_model_module": "@jupyter-widgets/base",
            "_model_module_version": "1.2.0",
            "_model_name": "LayoutModel",
            "_view_count": null,
            "_view_module": "@jupyter-widgets/base",
            "_view_module_version": "1.2.0",
            "_view_name": "LayoutView",
            "align_content": null,
            "align_items": null,
            "align_self": null,
            "border": null,
            "bottom": null,
            "display": null,
            "flex": null,
            "flex_flow": null,
            "grid_area": null,
            "grid_auto_columns": null,
            "grid_auto_flow": null,
            "grid_auto_rows": null,
            "grid_column": null,
            "grid_gap": null,
            "grid_row": null,
            "grid_template_areas": null,
            "grid_template_columns": null,
            "grid_template_rows": null,
            "height": null,
            "justify_content": null,
            "justify_items": null,
            "left": null,
            "margin": null,
            "max_height": null,
            "max_width": null,
            "min_height": null,
            "min_width": null,
            "object_fit": null,
            "object_position": null,
            "order": null,
            "overflow": null,
            "overflow_x": null,
            "overflow_y": null,
            "padding": null,
            "right": null,
            "top": null,
            "visibility": null,
            "width": null
          }
        },
        "4b3c0c9afa2a41d0973853c3f0164e18": {
          "model_module": "@jupyter-widgets/controls",
          "model_name": "DescriptionStyleModel",
          "model_module_version": "1.5.0",
          "state": {
            "_model_module": "@jupyter-widgets/controls",
            "_model_module_version": "1.5.0",
            "_model_name": "DescriptionStyleModel",
            "_view_count": null,
            "_view_module": "@jupyter-widgets/base",
            "_view_module_version": "1.2.0",
            "_view_name": "StyleView",
            "description_width": ""
          }
        },
        "19eb3086aef84ebb8cb60086a06ffe11": {
          "model_module": "@jupyter-widgets/base",
          "model_name": "LayoutModel",
          "model_module_version": "1.2.0",
          "state": {
            "_model_module": "@jupyter-widgets/base",
            "_model_module_version": "1.2.0",
            "_model_name": "LayoutModel",
            "_view_count": null,
            "_view_module": "@jupyter-widgets/base",
            "_view_module_version": "1.2.0",
            "_view_name": "LayoutView",
            "align_content": null,
            "align_items": null,
            "align_self": null,
            "border": null,
            "bottom": null,
            "display": null,
            "flex": null,
            "flex_flow": null,
            "grid_area": null,
            "grid_auto_columns": null,
            "grid_auto_flow": null,
            "grid_auto_rows": null,
            "grid_column": null,
            "grid_gap": null,
            "grid_row": null,
            "grid_template_areas": null,
            "grid_template_columns": null,
            "grid_template_rows": null,
            "height": null,
            "justify_content": null,
            "justify_items": null,
            "left": null,
            "margin": null,
            "max_height": null,
            "max_width": null,
            "min_height": null,
            "min_width": null,
            "object_fit": null,
            "object_position": null,
            "order": null,
            "overflow": null,
            "overflow_x": null,
            "overflow_y": null,
            "padding": null,
            "right": null,
            "top": null,
            "visibility": null,
            "width": null
          }
        },
        "4f31c5c7affb4eab9148752c56956085": {
          "model_module": "@jupyter-widgets/controls",
          "model_name": "ProgressStyleModel",
          "model_module_version": "1.5.0",
          "state": {
            "_model_module": "@jupyter-widgets/controls",
            "_model_module_version": "1.5.0",
            "_model_name": "ProgressStyleModel",
            "_view_count": null,
            "_view_module": "@jupyter-widgets/base",
            "_view_module_version": "1.2.0",
            "_view_name": "StyleView",
            "bar_color": null,
            "description_width": ""
          }
        },
        "c9a08780a829472390ef8f9595743294": {
          "model_module": "@jupyter-widgets/base",
          "model_name": "LayoutModel",
          "model_module_version": "1.2.0",
          "state": {
            "_model_module": "@jupyter-widgets/base",
            "_model_module_version": "1.2.0",
            "_model_name": "LayoutModel",
            "_view_count": null,
            "_view_module": "@jupyter-widgets/base",
            "_view_module_version": "1.2.0",
            "_view_name": "LayoutView",
            "align_content": null,
            "align_items": null,
            "align_self": null,
            "border": null,
            "bottom": null,
            "display": null,
            "flex": null,
            "flex_flow": null,
            "grid_area": null,
            "grid_auto_columns": null,
            "grid_auto_flow": null,
            "grid_auto_rows": null,
            "grid_column": null,
            "grid_gap": null,
            "grid_row": null,
            "grid_template_areas": null,
            "grid_template_columns": null,
            "grid_template_rows": null,
            "height": null,
            "justify_content": null,
            "justify_items": null,
            "left": null,
            "margin": null,
            "max_height": null,
            "max_width": null,
            "min_height": null,
            "min_width": null,
            "object_fit": null,
            "object_position": null,
            "order": null,
            "overflow": null,
            "overflow_x": null,
            "overflow_y": null,
            "padding": null,
            "right": null,
            "top": null,
            "visibility": null,
            "width": null
          }
        },
        "ff5871d50dd645a7ac4fd3cabb380f6b": {
          "model_module": "@jupyter-widgets/controls",
          "model_name": "DescriptionStyleModel",
          "model_module_version": "1.5.0",
          "state": {
            "_model_module": "@jupyter-widgets/controls",
            "_model_module_version": "1.5.0",
            "_model_name": "DescriptionStyleModel",
            "_view_count": null,
            "_view_module": "@jupyter-widgets/base",
            "_view_module_version": "1.2.0",
            "_view_name": "StyleView",
            "description_width": ""
          }
        }
      }
    }
  },
  "nbformat": 4,
  "nbformat_minor": 5
}