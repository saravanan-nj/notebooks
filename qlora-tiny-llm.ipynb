{
  "cells": [
    {
      "cell_type": "markdown",
      "source": [
        "### Install Requirements"
      ],
      "metadata": {
        "id": "NPKEYvEUmRaX"
      },
      "id": "NPKEYvEUmRaX"
    },
    {
      "cell_type": "code",
      "source": [
        "!pip install -q accelerate==1.3.0 peft==0.14.0 bitsandbytes==0.45.2 transformers==4.48.3 trl==0.14.0 pretty_midi"
      ],
      "metadata": {
        "id": "q8ec-vuWmWIc"
      },
      "id": "q8ec-vuWmWIc",
      "execution_count": 1,
      "outputs": []
    },
    {
      "cell_type": "code",
      "source": [
        "import os\n",
        "import torch\n",
        "from datasets import load_dataset\n",
        "from transformers import (\n",
        "    AutoModelForCausalLM,\n",
        "    AutoTokenizer,\n",
        "    BitsAndBytesConfig,\n",
        "    HfArgumentParser,\n",
        "    TrainingArguments,\n",
        "    pipeline,\n",
        "    logging,\n",
        ")\n",
        "from peft import LoraConfig, PeftModel\n",
        "from trl import SFTTrainer"
      ],
      "metadata": {
        "id": "vMGDYyvZmbMh"
      },
      "id": "vMGDYyvZmbMh",
      "execution_count": 2,
      "outputs": []
    },
    {
      "cell_type": "code",
      "source": [
        "# Load the training dataset\n",
        "from google.colab import drive\n",
        "import pandas as pd\n",
        "\n",
        "df = pd.read_csv('/content/imdb/train_data.txt', delimiter=\":::\", names=[\"index\", \"title\", \"genre\", \"description\"])"
      ],
      "metadata": {
        "colab": {
          "base_uri": "https://localhost:8080/"
        },
        "id": "lXPlfMG8qxz_",
        "outputId": "ccab65b9-5a30-49af-8fde-f709a5ed9815"
      },
      "id": "lXPlfMG8qxz_",
      "execution_count": 10,
      "outputs": [
        {
          "output_type": "stream",
          "name": "stderr",
          "text": [
            "<ipython-input-10-dbc0b2345c43>:5: ParserWarning: Falling back to the 'python' engine because the 'c' engine does not support regex separators (separators > 1 char and different from '\\s+' are interpreted as regex); you can avoid this warning by specifying engine='python'.\n",
            "  df = pd.read_csv('/content/imdb/train_data.txt', delimiter=\":::\", names=[\"index\", \"title\", \"genre\", \"description\"])\n"
          ]
        }
      ]
    },
    {
      "cell_type": "code",
      "source": [
        "dataset_df = pd.DataFrame()\n",
        "def form_prompt(data):\n",
        "  return f\"### Instruction:\\n Given a description about a movie, analyse the given description of the movie and return the genre of the movie.\\n### Description:\\n{data}\"\n",
        "\n",
        "def form_completion(data):\n",
        "  return f\"### Genre:\\n{data}\"\n",
        "\n",
        "dataset_df[\"prompt\"] = df[\"title\"].apply(form_prompt)\n",
        "dataset_df[\"completion\"] = df[\"genre\"].apply(form_completion)"
      ],
      "metadata": {
        "id": "F4f0SzIN4oDt"
      },
      "id": "F4f0SzIN4oDt",
      "execution_count": 13,
      "outputs": []
    },
    {
      "cell_type": "code",
      "source": [
        "from datasets import Dataset\n",
        "dataset = Dataset.from_pandas(dataset_df)"
      ],
      "metadata": {
        "id": "yg9Ob5A89QAf"
      },
      "id": "yg9Ob5A89QAf",
      "execution_count": 14,
      "outputs": []
    },
    {
      "cell_type": "code",
      "source": [
        "bnb_config = BitsAndBytesConfig(\n",
        "    load_in_4bit=True,\n",
        "    bnb_4bit_quant_type=\"nf4\",\n",
        "    bnb_4bit_compute_dtype=torch.float16,\n",
        "    bnb_4bit_use_double_quant=False,\n",
        ")"
      ],
      "metadata": {
        "id": "uPTs6vja_Xzw"
      },
      "id": "uPTs6vja_Xzw",
      "execution_count": 15,
      "outputs": []
    },
    {
      "cell_type": "code",
      "source": [],
      "metadata": {
        "id": "jGEJ_PhAAPif"
      },
      "id": "jGEJ_PhAAPif",
      "execution_count": null,
      "outputs": []
    }
  ],
  "metadata": {
    "kernelspec": {
      "display_name": "Python 3 (ipykernel)",
      "language": "python",
      "name": "python3"
    },
    "language_info": {
      "codemirror_mode": {
        "name": "ipython",
        "version": 3
      },
      "file_extension": ".py",
      "mimetype": "text/x-python",
      "name": "python",
      "nbconvert_exporter": "python",
      "pygments_lexer": "ipython3",
      "version": "3.12.8"
    },
    "colab": {
      "provenance": []
    }
  },
  "nbformat": 4,
  "nbformat_minor": 5
}